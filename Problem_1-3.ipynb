{
 "cells": [
  {
   "cell_type": "markdown",
   "id": "e4e52280",
   "metadata": {},
   "source": [
    "# 富士山折紙問題\n",
    "## 【問題1】何回折ったら富士山を超えるか"
   ]
  },
  {
   "cell_type": "code",
   "execution_count": 1,
   "id": "95f862e1",
   "metadata": {},
   "outputs": [
    {
     "name": "stdout",
     "output_type": "stream",
     "text": [
      "厚さ8e-05の紙を27回折ると富士山の高さを超えます\n"
     ]
    }
   ],
   "source": [
    "# 富士山の高さ\n",
    "HEIGHT_OF_MT_FUJI = 3776\n",
    "# 厚さの初期値\n",
    "THICKNESS = 0.00008\n",
    "# 折った回数\n",
    "number_of_folds = 0\n",
    "# 折る紙の厚さの初期値\n",
    "height = THICKNESS\n",
    "\n",
    "# 計算\n",
    "while height < HEIGHT_OF_MT_FUJI:\n",
    "\theight = THICKNESS * (2 ** number_of_folds)\n",
    "\tnumber_of_folds += 1\n",
    "\n",
    "# 結果の表示\n",
    "print('厚さ{}の紙を{}回折ると富士山の高さを超えます'.format(THICKNESS, number_of_folds))"
   ]
  },
  {
   "cell_type": "markdown",
   "id": "31da4ebe",
   "metadata": {},
   "source": [
    "## 【問題2】任意の厚さに対応した関数"
   ]
  },
  {
   "cell_type": "code",
   "execution_count": 2,
   "id": "5c88106b",
   "metadata": {},
   "outputs": [
    {
     "name": "stdout",
     "output_type": "stream",
     "text": [
      "プロキシマ・ケンタウリを超えるためには70回、厚さ8e-05[m]の紙を折る必要があります\n"
     ]
    }
   ],
   "source": [
    "# 関数の宣言\n",
    "def origami_height_compare(thickness, goal_height):\n",
    "\t\"\"\"\n",
    "\tfunction : 目標の高さ[goal_height]と紙の厚さ[thickness]を入力すると\n",
    "\t\t\t   目標の高さを超えるために必要な折る回数[number_of_folds]を返す関数\n",
    "\t:param thickness: float\n",
    "\t\t折りたい紙の厚さ\n",
    "\t:param goal_height: float\n",
    "\t\t目標の高さ\n",
    "\theight : int (計算用)\n",
    "\t\t高さの計算のためのパラメータ\n",
    "\t:return number_of_folds : int\n",
    "\t\t目標の高さを超えるために必要な最小の折る回数\n",
    "\t\"\"\"\n",
    "\n",
    "\t# 初期値の設定\n",
    "\tnumber_of_folds = 0\n",
    "\theight = thickness\n",
    "\n",
    "\t# 計算\n",
    "\twhile height < goal_height:\n",
    "\t\theight = thickness * (2 ** number_of_folds)\n",
    "\t\tnumber_of_folds += 1\n",
    "\n",
    "\t# 返り値の設定\n",
    "\treturn number_of_folds\n",
    "\n",
    "\n",
    "# パラメータの設定\n",
    "THICKNESS_OF_COPY_PAPER = 0.00008\n",
    "DISTANCE_TO_THE_PROKISIMA_KENTAURI = 4.0175e+16\n",
    "\n",
    "# 結果の表示\n",
    "print('プロキシマ・ケンタウリを超えるためには{}回、厚さ{}[m]の紙を折る必要があります'\n",
    "         .format(origami_height_compare(THICKNESS_OF_COPY_PAPER, DISTANCE_TO_THE_PROKISIMA_KENTAURI),\n",
    "\t\t                                THICKNESS_OF_COPY_PAPER))"
   ]
  },
  {
   "cell_type": "markdown",
   "id": "5c83d00a",
   "metadata": {},
   "source": [
    "## 【問題3】必要な紙の長さ"
   ]
  },
  {
   "cell_type": "code",
   "execution_count": 3,
   "id": "3cfe92b7",
   "metadata": {},
   "outputs": [
    {
     "name": "stdout",
     "output_type": "stream",
     "text": [
      "「富士山」に届くために必要な紙の長さは7.545854e+11[m]です。\n",
      "「月」に届くために必要な紙の長さは1.296368e+22[m]です。\n",
      "「最も近い太陽以外の恒星」に届くために必要な紙の長さは5.838321e+37[m]です。\n"
     ]
    }
   ],
   "source": [
    "# モジュールのインポート\n",
    "import math\n",
    "\n",
    "\n",
    "# 関数の宣言\n",
    "def compare_folding_paper(thickness, number_of_folds):\n",
    "\t\"\"\"\n",
    "\tfunction : 厚さ[thickness]の紙を[number_of_folds]回折るために必要な紙の長さ[long]を求める関数\n",
    "\t:param thickness: int\n",
    "\t\t折る紙の厚さ\n",
    "\t:param number_of_folds : int\n",
    "\t\t折る回数\n",
    "\t:return: long\n",
    "\t\t必要な紙の長さ\n",
    "\t\"\"\"\n",
    "\n",
    "\t# 計算\n",
    "\tlong = (math.pi * thickness / 6) * (2 ** number_of_folds + 4) * (2 ** number_of_folds - 1)\n",
    "\t# 返り値の設定\n",
    "\treturn long\n",
    "\n",
    "\n",
    "# パラメータの設定\n",
    "HEIGHT_OF_MT_FUJI = 3776\n",
    "DISTANCE_TO_THE_MOON = 3844e+5\n",
    "DISTANCE_TO_THE_PROKISIMA_KENTAURI = 4.0175e+16\n",
    "THICKNESS_OF_COPY_PAPER = 0.00008\n",
    "\n",
    "# それぞれの高さを超えるために必要なコピー用紙の折る回数の計算\n",
    "number_of_folding_fuji = origami_height_compare(THICKNESS_OF_COPY_PAPER, HEIGHT_OF_MT_FUJI)\n",
    "number_of_folding_moon = origami_height_compare(THICKNESS_OF_COPY_PAPER, DISTANCE_TO_THE_MOON)\n",
    "number_of_folding_prokisima = origami_height_compare(THICKNESS_OF_COPY_PAPER, DISTANCE_TO_THE_PROKISIMA_KENTAURI)\n",
    "\n",
    "# それぞれの高さを超えるために必要なコピー用紙を折る回数を折るために必要な紙の長さの計算\n",
    "required_paper_length_to_reach_fuji = compare_folding_paper(THICKNESS_OF_COPY_PAPER, number_of_folding_fuji)\n",
    "required_paper_length_to_reach_moon = compare_folding_paper(THICKNESS_OF_COPY_PAPER, number_of_folding_moon)\n",
    "required_paper_length_to_reach_prokishima = compare_folding_paper(THICKNESS_OF_COPY_PAPER, number_of_folding_prokisima)\n",
    "\n",
    "# 結果の表示\n",
    "print('「富士山」に届くために必要な紙の長さは{:e}[m]です。'.format(required_paper_length_to_reach_fuji))\n",
    "print('「月」に届くために必要な紙の長さは{:e}[m]です。'.format(required_paper_length_to_reach_moon))\n",
    "print('「最も近い太陽以外の恒星」に届くために必要な紙の長さは{:e}[m]です。'.format(required_paper_length_to_reach_prokishima))"
   ]
  }
 ],
 "metadata": {
  "kernelspec": {
   "display_name": "Python 3 (ipykernel)",
   "language": "python",
   "name": "python3"
  },
  "language_info": {
   "codemirror_mode": {
    "name": "ipython",
    "version": 3
   },
   "file_extension": ".py",
   "mimetype": "text/x-python",
   "name": "python",
   "nbconvert_exporter": "python",
   "pygments_lexer": "ipython3",
   "version": "3.9.5"
  }
 },
 "nbformat": 4,
 "nbformat_minor": 5
}
